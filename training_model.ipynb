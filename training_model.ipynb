{
 "cells": [
  {
   "cell_type": "code",
   "execution_count": 1,
   "metadata": {},
   "outputs": [],
   "source": [
    "# General imports\n",
    "import numpy as np\n",
    "import pandas as pd\n",
    "from sklearn.model_selection import train_test_split"
   ]
  },
  {
   "cell_type": "code",
   "execution_count": 41,
   "metadata": {},
   "outputs": [
    {
     "data": {
      "text/html": [
       "<div>\n",
       "<style scoped>\n",
       "    .dataframe tbody tr th:only-of-type {\n",
       "        vertical-align: middle;\n",
       "    }\n",
       "\n",
       "    .dataframe tbody tr th {\n",
       "        vertical-align: top;\n",
       "    }\n",
       "\n",
       "    .dataframe thead th {\n",
       "        text-align: right;\n",
       "    }\n",
       "</style>\n",
       "<table border=\"1\" class=\"dataframe\">\n",
       "  <thead>\n",
       "    <tr style=\"text-align: right;\">\n",
       "      <th></th>\n",
       "      <th>id</th>\n",
       "      <th>timestamp</th>\n",
       "      <th>email_id</th>\n",
       "      <th>action</th>\n",
       "    </tr>\n",
       "  </thead>\n",
       "  <tbody>\n",
       "    <tr>\n",
       "      <th>0</th>\n",
       "      <td>4591b11ba8cca67079c1a43be2992a8f89fce422</td>\n",
       "      <td>2018-05-25 14:59:02 UTC</td>\n",
       "      <td>3498910</td>\n",
       "      <td>open</td>\n",
       "    </tr>\n",
       "    <tr>\n",
       "      <th>1</th>\n",
       "      <td>2bbdb4cff0fe8cc3cb6c1757291e31806ecefa47</td>\n",
       "      <td>2018-06-25 17:47:23 UTC</td>\n",
       "      <td>3498910</td>\n",
       "      <td>open</td>\n",
       "    </tr>\n",
       "    <tr>\n",
       "      <th>2</th>\n",
       "      <td>0f467135eabd4e385f9c2dcd3f00a9f2a04c0115</td>\n",
       "      <td>2018-06-27 12:32:36 UTC</td>\n",
       "      <td>3498910</td>\n",
       "      <td>open</td>\n",
       "    </tr>\n",
       "    <tr>\n",
       "      <th>3</th>\n",
       "      <td>6f17b7dc6f220c09fba4d8fbc2491317eece2ae8</td>\n",
       "      <td>2018-07-02 22:47:28 UTC</td>\n",
       "      <td>3498910</td>\n",
       "      <td>open</td>\n",
       "    </tr>\n",
       "    <tr>\n",
       "      <th>4</th>\n",
       "      <td>a645dd2ac5c5e000c8b5c7739b3a54435fb313cc</td>\n",
       "      <td>2018-01-24 19:21:49 UTC</td>\n",
       "      <td>3498910</td>\n",
       "      <td>open</td>\n",
       "    </tr>\n",
       "  </tbody>\n",
       "</table>\n",
       "</div>"
      ],
      "text/plain": [
       "                                         id                timestamp  \\\n",
       "0  4591b11ba8cca67079c1a43be2992a8f89fce422  2018-05-25 14:59:02 UTC   \n",
       "1  2bbdb4cff0fe8cc3cb6c1757291e31806ecefa47  2018-06-25 17:47:23 UTC   \n",
       "2  0f467135eabd4e385f9c2dcd3f00a9f2a04c0115  2018-06-27 12:32:36 UTC   \n",
       "3  6f17b7dc6f220c09fba4d8fbc2491317eece2ae8  2018-07-02 22:47:28 UTC   \n",
       "4  a645dd2ac5c5e000c8b5c7739b3a54435fb313cc  2018-01-24 19:21:49 UTC   \n",
       "\n",
       "   email_id action  \n",
       "0   3498910   open  \n",
       "1   3498910   open  \n",
       "2   3498910   open  \n",
       "3   3498910   open  \n",
       "4   3498910   open  "
      ]
     },
     "execution_count": 41,
     "metadata": {},
     "output_type": "execute_result"
    }
   ],
   "source": [
    "# Load data\n",
    "event_log_file = './data/event_log.csv'\n",
    "df = pd.read_csv(event_log_file)\n",
    "df.head()"
   ]
  },
  {
   "cell_type": "code",
   "execution_count": 42,
   "metadata": {},
   "outputs": [
    {
     "data": {
      "text/plain": [
       "['open', 'click', 'received', 'spamreport', 'unsubscribe']"
      ]
     },
     "execution_count": 42,
     "metadata": {},
     "output_type": "execute_result"
    }
   ],
   "source": [
    "list(df.action.unique())"
   ]
  },
  {
   "cell_type": "code",
   "execution_count": 43,
   "metadata": {},
   "outputs": [
    {
     "name": "stdout",
     "output_type": "stream",
     "text": [
      "Data Frame is ready!\n"
     ]
    }
   ],
   "source": [
    "# Data treatment\n",
    "\n",
    "# New columns\n",
    "df['timestamp_dt'] = pd.to_datetime(df.timestamp)\n",
    "df['week_day'] = df.timestamp_dt.dt.weekday_name # or day_name() pandas v0.23+\n",
    "df.week_day = pd.Categorical(df.week_day)\n",
    "df['week_day_code'] = df.week_day.cat.codes\n",
    "df['hour_minute'] = (df.timestamp_dt.dt.hour*100) + df.timestamp_dt.dt.minute\n",
    "\n",
    "df.id = pd.Categorical(df.id)\n",
    "df['id_code'] = df.id.cat.codes\n",
    "\n",
    "# Create label column\n",
    "labels = { 0: ['open', 'click'], 1: ['received', 'spamreport', 'unsubscribe'] }\n",
    "category_label = dict()\n",
    "for k,values in labels.items():\n",
    "    for v in values:\n",
    "        category_label[v] = k\n",
    "df['label'] = df.action.map(lambda x: category_label[x])\n",
    "\n",
    "print('Data Frame is ready!')"
   ]
  },
  {
   "cell_type": "code",
   "execution_count": 44,
   "metadata": {},
   "outputs": [],
   "source": [
    "# Set input and labels\n",
    "target_column = 'label'\n",
    "columns_in = ['id_code', 'hour_minute', 'week_day_code']\n",
    "X = np.array(df[columns_in].astype(float))\n",
    "y = np.array(df[target_column])"
   ]
  },
  {
   "cell_type": "code",
   "execution_count": 63,
   "metadata": {},
   "outputs": [
    {
     "name": "stdout",
     "output_type": "stream",
     "text": [
      "len 189598\n",
      "Score: 0.8633860759493671\n"
     ]
    }
   ],
   "source": [
    "# Train and test accuracy\n",
    "from sklearn.neighbors import KNeighborsClassifier\n",
    "\n",
    "X_train, X_test, y_train, y_test = train_test_split(X, y, test_size=0.4, random_state=0)\n",
    "knn = KNeighborsClassifier(n_neighbors=2).fit(X_train, y_train)\n",
    "acc = knn.score(X_test, y_test)\n",
    "\n",
    "print('Accuracy:', acc)"
   ]
  },
  {
   "cell_type": "code",
   "execution_count": 66,
   "metadata": {},
   "outputs": [],
   "source": [
    "# Save model\n",
    "import pickle\n",
    "model_file = './models/knn_model.pickle'\n",
    "pickle.dump(knn, open(model_file, 'wb'))\n",
    "print('Model successfully saved!')"
   ]
  },
  {
   "cell_type": "code",
   "execution_count": null,
   "metadata": {},
   "outputs": [],
   "source": []
  }
 ],
 "metadata": {
  "kernelspec": {
   "display_name": "Python 3",
   "language": "python",
   "name": "python3"
  },
  "language_info": {
   "codemirror_mode": {
    "name": "ipython",
    "version": 3
   },
   "file_extension": ".py",
   "mimetype": "text/x-python",
   "name": "python",
   "nbconvert_exporter": "python",
   "pygments_lexer": "ipython3",
   "version": "3.6.5"
  }
 },
 "nbformat": 4,
 "nbformat_minor": 2
}
