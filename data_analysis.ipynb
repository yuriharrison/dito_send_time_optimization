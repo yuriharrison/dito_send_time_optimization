{
 "cells": [
  {
   "cell_type": "code",
   "execution_count": 1,
   "metadata": {},
   "outputs": [],
   "source": [
    "# General imports\n",
    "import pandas as pd\n",
    "import matplotlib as plt\n",
    "from IPython.display import Markdown, display"
   ]
  },
  {
   "cell_type": "code",
   "execution_count": 2,
   "metadata": {},
   "outputs": [
    {
     "name": "stdout",
     "output_type": "stream",
     "text": [
      "Using matplotlib backend: TkAgg\n",
      "Populating the interactive namespace from numpy and matplotlib\n"
     ]
    },
    {
     "name": "stderr",
     "output_type": "stream",
     "text": [
      "c:\\users\\yurih\\appdata\\local\\programs\\python\\python36\\lib\\site-packages\\IPython\\core\\magics\\pylab.py:160: UserWarning: pylab import has clobbered these variables: ['plt']\n",
      "`%matplotlib` prevents importing * from pylab and numpy\n",
      "  \"\\n`%matplotlib` prevents importing * from pylab and numpy\"\n"
     ]
    }
   ],
   "source": [
    "# For display\n",
    "%matplotlib\n",
    "%pylab inline\n",
    "pylab.rcParams['figure.figsize'] = (10, 6)\n",
    "\n",
    "plt.style.use('ggplot')\n",
    "\n",
    "def printmd(string):\n",
    "    display(Markdown(string))"
   ]
  },
  {
   "cell_type": "code",
   "execution_count": 3,
   "metadata": {},
   "outputs": [
    {
     "data": {
      "text/html": [
       "<div>\n",
       "<style scoped>\n",
       "    .dataframe tbody tr th:only-of-type {\n",
       "        vertical-align: middle;\n",
       "    }\n",
       "\n",
       "    .dataframe tbody tr th {\n",
       "        vertical-align: top;\n",
       "    }\n",
       "\n",
       "    .dataframe thead th {\n",
       "        text-align: right;\n",
       "    }\n",
       "</style>\n",
       "<table border=\"1\" class=\"dataframe\">\n",
       "  <thead>\n",
       "    <tr style=\"text-align: right;\">\n",
       "      <th></th>\n",
       "      <th>id</th>\n",
       "      <th>timestamp</th>\n",
       "      <th>email_id</th>\n",
       "      <th>action</th>\n",
       "    </tr>\n",
       "  </thead>\n",
       "  <tbody>\n",
       "    <tr>\n",
       "      <th>0</th>\n",
       "      <td>4591b11ba8cca67079c1a43be2992a8f89fce422</td>\n",
       "      <td>2018-05-25 14:59:02 UTC</td>\n",
       "      <td>3498910</td>\n",
       "      <td>open</td>\n",
       "    </tr>\n",
       "    <tr>\n",
       "      <th>1</th>\n",
       "      <td>2bbdb4cff0fe8cc3cb6c1757291e31806ecefa47</td>\n",
       "      <td>2018-06-25 17:47:23 UTC</td>\n",
       "      <td>3498910</td>\n",
       "      <td>open</td>\n",
       "    </tr>\n",
       "    <tr>\n",
       "      <th>2</th>\n",
       "      <td>0f467135eabd4e385f9c2dcd3f00a9f2a04c0115</td>\n",
       "      <td>2018-06-27 12:32:36 UTC</td>\n",
       "      <td>3498910</td>\n",
       "      <td>open</td>\n",
       "    </tr>\n",
       "    <tr>\n",
       "      <th>3</th>\n",
       "      <td>6f17b7dc6f220c09fba4d8fbc2491317eece2ae8</td>\n",
       "      <td>2018-07-02 22:47:28 UTC</td>\n",
       "      <td>3498910</td>\n",
       "      <td>open</td>\n",
       "    </tr>\n",
       "    <tr>\n",
       "      <th>4</th>\n",
       "      <td>a645dd2ac5c5e000c8b5c7739b3a54435fb313cc</td>\n",
       "      <td>2018-01-24 19:21:49 UTC</td>\n",
       "      <td>3498910</td>\n",
       "      <td>open</td>\n",
       "    </tr>\n",
       "  </tbody>\n",
       "</table>\n",
       "</div>"
      ],
      "text/plain": [
       "                                         id                timestamp  \\\n",
       "0  4591b11ba8cca67079c1a43be2992a8f89fce422  2018-05-25 14:59:02 UTC   \n",
       "1  2bbdb4cff0fe8cc3cb6c1757291e31806ecefa47  2018-06-25 17:47:23 UTC   \n",
       "2  0f467135eabd4e385f9c2dcd3f00a9f2a04c0115  2018-06-27 12:32:36 UTC   \n",
       "3  6f17b7dc6f220c09fba4d8fbc2491317eece2ae8  2018-07-02 22:47:28 UTC   \n",
       "4  a645dd2ac5c5e000c8b5c7739b3a54435fb313cc  2018-01-24 19:21:49 UTC   \n",
       "\n",
       "   email_id action  \n",
       "0   3498910   open  \n",
       "1   3498910   open  \n",
       "2   3498910   open  \n",
       "3   3498910   open  \n",
       "4   3498910   open  "
      ]
     },
     "execution_count": 3,
     "metadata": {},
     "output_type": "execute_result"
    }
   ],
   "source": [
    "# Load data\n",
    "event_log_file = './data/event_log.csv'\n",
    "df = pd.read_csv(event_log_file)\n",
    "df.head()"
   ]
  },
  {
   "cell_type": "code",
   "execution_count": 4,
   "metadata": {},
   "outputs": [
    {
     "data": {
      "text/plain": [
       "['open', 'click', 'received', 'spamreport', 'unsubscribe']"
      ]
     },
     "execution_count": 4,
     "metadata": {},
     "output_type": "execute_result"
    }
   ],
   "source": [
    "list(df.action.unique())"
   ]
  },
  {
   "cell_type": "code",
   "execution_count": 28,
   "metadata": {},
   "outputs": [
    {
     "data": {
      "image/png": "[encoded data removed]",
      "text/plain": [
       "<Figure size 720x432 with 1 Axes>"
      ]
     },
     "metadata": {},
     "output_type": "display_data"
    }
   ],
   "source": [
    "df_count = df.groupby(['action',]).action.count().map(lambda x: x/len(df.index)*100)\n",
    "df_count = df_count.rename('percent').sort_values()\n",
    "ax = df_count.plot.bar(rot=0)\n",
    "for i, v in enumerate(df_count):\n",
    "    ax.text(i -.20, v + 1.5, '{:.2f}%'.format(v), color='k')\n",
    "\n",
    "# savefig('./saved_graphs/action_percentage.png')"
   ]
  },
  {
   "cell_type": "code",
   "execution_count": 6,
   "metadata": {},
   "outputs": [],
   "source": [
    "# Check datatype\n",
    "ar = df.timestamp.map(lambda x: x.endswith('UTC')).unique()\n",
    "assert len(ar) == True"
   ]
  },
  {
   "cell_type": "code",
   "execution_count": 7,
   "metadata": {},
   "outputs": [
    {
     "data": {
      "text/markdown": [
       "Number of individual ids: **24024**"
      ],
      "text/plain": [
       "<IPython.core.display.Markdown object>"
      ]
     },
     "metadata": {},
     "output_type": "display_data"
    }
   ],
   "source": [
    "printmd('Number of individual ids: **{}**'.format(len(df.id.unique())))"
   ]
  },
  {
   "cell_type": "code",
   "execution_count": 8,
   "metadata": {},
   "outputs": [
    {
     "data": {
      "text/html": [
       "<div>\n",
       "<style scoped>\n",
       "    .dataframe tbody tr th:only-of-type {\n",
       "        vertical-align: middle;\n",
       "    }\n",
       "\n",
       "    .dataframe tbody tr th {\n",
       "        vertical-align: top;\n",
       "    }\n",
       "\n",
       "    .dataframe thead th {\n",
       "        text-align: right;\n",
       "    }\n",
       "</style>\n",
       "<table border=\"1\" class=\"dataframe\">\n",
       "  <thead>\n",
       "    <tr style=\"text-align: right;\">\n",
       "      <th>status</th>\n",
       "      <th>interested</th>\n",
       "      <th>not_interested</th>\n",
       "      <th>i_perc</th>\n",
       "      <th>ni_perc</th>\n",
       "    </tr>\n",
       "    <tr>\n",
       "      <th>id</th>\n",
       "      <th></th>\n",
       "      <th></th>\n",
       "      <th></th>\n",
       "      <th></th>\n",
       "    </tr>\n",
       "  </thead>\n",
       "  <tbody>\n",
       "    <tr>\n",
       "      <th>00009d30d2f6cdca3b306b6a0fe58a32e51dabdc</th>\n",
       "      <td>3.0</td>\n",
       "      <td>16.0</td>\n",
       "      <td>15.789474</td>\n",
       "      <td>84.210526</td>\n",
       "    </tr>\n",
       "    <tr>\n",
       "      <th>000381bbcff473fa34421bf98aecd7598f547212</th>\n",
       "      <td>0.0</td>\n",
       "      <td>3.0</td>\n",
       "      <td>0.000000</td>\n",
       "      <td>100.000000</td>\n",
       "    </tr>\n",
       "    <tr>\n",
       "      <th>00074efe132b0b36c90ef600386ca2f863bc5e49</th>\n",
       "      <td>2.0</td>\n",
       "      <td>18.0</td>\n",
       "      <td>10.000000</td>\n",
       "      <td>90.000000</td>\n",
       "    </tr>\n",
       "    <tr>\n",
       "      <th>0009b0b413429e75bf81c8989d7c6201f2d86180</th>\n",
       "      <td>11.0</td>\n",
       "      <td>16.0</td>\n",
       "      <td>40.740741</td>\n",
       "      <td>59.259259</td>\n",
       "    </tr>\n",
       "    <tr>\n",
       "      <th>000c8d54dcdee43b7f76073ef2a83503402bc5a3</th>\n",
       "      <td>2.0</td>\n",
       "      <td>15.0</td>\n",
       "      <td>11.764706</td>\n",
       "      <td>88.235294</td>\n",
       "    </tr>\n",
       "  </tbody>\n",
       "</table>\n",
       "</div>"
      ],
      "text/plain": [
       "status                                    interested  not_interested  \\\n",
       "id                                                                     \n",
       "00009d30d2f6cdca3b306b6a0fe58a32e51dabdc         3.0            16.0   \n",
       "000381bbcff473fa34421bf98aecd7598f547212         0.0             3.0   \n",
       "00074efe132b0b36c90ef600386ca2f863bc5e49         2.0            18.0   \n",
       "0009b0b413429e75bf81c8989d7c6201f2d86180        11.0            16.0   \n",
       "000c8d54dcdee43b7f76073ef2a83503402bc5a3         2.0            15.0   \n",
       "\n",
       "status                                       i_perc     ni_perc  \n",
       "id                                                               \n",
       "00009d30d2f6cdca3b306b6a0fe58a32e51dabdc  15.789474   84.210526  \n",
       "000381bbcff473fa34421bf98aecd7598f547212   0.000000  100.000000  \n",
       "00074efe132b0b36c90ef600386ca2f863bc5e49  10.000000   90.000000  \n",
       "0009b0b413429e75bf81c8989d7c6201f2d86180  40.740741   59.259259  \n",
       "000c8d54dcdee43b7f76073ef2a83503402bc5a3  11.764706   88.235294  "
      ]
     },
     "execution_count": 8,
     "metadata": {},
     "output_type": "execute_result"
    }
   ],
   "source": [
    "# Interest per id\n",
    "labels = { 'interested': ['open', 'click'], 'not_interested': ['received', 'spamreport', 'unsubscribe'] }\n",
    "category_label = dict()\n",
    "for k,values in labels.items():\n",
    "    for v in values:\n",
    "        category_label[v] = k\n",
    "df['status'] = df.action.map(lambda x: category_label[x])\n",
    "df_is = df.groupby(['id','status']).status.count().unstack().fillna(0)\n",
    "df_is['i_perc'] = df_is.interested/(df_is.interested + df_is.not_interested)*100\n",
    "df_is['ni_perc'] = df_is.not_interested/(df_is.interested + df_is.not_interested)*100\n",
    "df_is.head()"
   ]
  },
  {
   "cell_type": "code",
   "execution_count": 30,
   "metadata": {},
   "outputs": [
    {
     "data": {
      "text/markdown": [
       "**[Interest]** Average: **21.11%** - Median: **12.50%**"
      ],
      "text/plain": [
       "<IPython.core.display.Markdown object>"
      ]
     },
     "metadata": {},
     "output_type": "display_data"
    },
    {
     "data": {
      "text/markdown": [
       "**[Disinterest]** Average: **78.89%** - Median: **87.50%**"
      ],
      "text/plain": [
       "<IPython.core.display.Markdown object>"
      ]
     },
     "metadata": {},
     "output_type": "display_data"
    },
    {
     "data": {
      "text/plain": [
       "<Figure size 720x432 with 0 Axes>"
      ]
     },
     "metadata": {},
     "output_type": "display_data"
    }
   ],
   "source": [
    "# Avg of interest\n",
    "i_mean = df_is.i_perc.mean()\n",
    "i_median = df_is.i_perc.median()\n",
    "ni_mean = df_is.ni_perc.mean()\n",
    "ni_median = df_is.ni_perc.median()\n",
    "\n",
    "md_msg = '**[{}]** Average: **{:.2f}%** - Median: **{:.2f}%**'\n",
    "printmd(md_msg.format('Interest', i_mean, i_median))\n",
    "printmd(md_msg.format('Disinterest', ni_mean, ni_median))"
   ]
  },
  {
   "cell_type": "code",
   "execution_count": 29,
   "metadata": {},
   "outputs": [
    {
     "data": {
      "image/png": "[encoded data removed]",
      "text/plain": [
       "<Figure size 720x432 with 1 Axes>"
      ]
     },
     "metadata": {},
     "output_type": "display_data"
    }
   ],
   "source": [
    "# Interest scale\n",
    "df_is_1 = df_is.i_perc.sort_values().reset_index()\n",
    "df_is_1['Interest'] = (df_is_1.index.to_series() / ((len(df_is_1.index))/100)).astype(int)\n",
    "interest_ax = df_is_1.groupby(['Interest']).i_perc.mean().plot()\n",
    "# savefig('./saved_graphs/interest_scale.png')"
   ]
  },
  {
   "cell_type": "code",
   "execution_count": 11,
   "metadata": {},
   "outputs": [
    {
     "data": {
      "text/markdown": [
       "As visible in the chart above more than **40%** of people didn't opened one single email."
      ],
      "text/plain": [
       "<IPython.core.display.Markdown object>"
      ]
     },
     "metadata": {},
     "output_type": "display_data"
    }
   ],
   "source": [
    "completely_disinterested = len(df_is[(df_is.interested == 0)])\n",
    "cd_percent = completely_disinterested/len(df_is)*100\n",
    "assert cd_percent > 40\n",
    "printmd('As visible in the chart above more than **40%** of people didn\\'t opened one single email.')"
   ]
  },
  {
   "cell_type": "code",
   "execution_count": 12,
   "metadata": {},
   "outputs": [
    {
     "data": {
      "text/html": [
       "<div>\n",
       "<style scoped>\n",
       "    .dataframe tbody tr th:only-of-type {\n",
       "        vertical-align: middle;\n",
       "    }\n",
       "\n",
       "    .dataframe tbody tr th {\n",
       "        vertical-align: top;\n",
       "    }\n",
       "\n",
       "    .dataframe thead th {\n",
       "        text-align: right;\n",
       "    }\n",
       "</style>\n",
       "<table border=\"1\" class=\"dataframe\">\n",
       "  <thead>\n",
       "    <tr style=\"text-align: right;\">\n",
       "      <th>status</th>\n",
       "      <th>interested</th>\n",
       "      <th>not_interested</th>\n",
       "      <th>i_perc</th>\n",
       "    </tr>\n",
       "    <tr>\n",
       "      <th>week_day</th>\n",
       "      <th></th>\n",
       "      <th></th>\n",
       "      <th></th>\n",
       "    </tr>\n",
       "  </thead>\n",
       "  <tbody>\n",
       "    <tr>\n",
       "      <th>Monday</th>\n",
       "      <td>15233</td>\n",
       "      <td>49373</td>\n",
       "      <td>23.578305</td>\n",
       "    </tr>\n",
       "    <tr>\n",
       "      <th>Tuesday</th>\n",
       "      <td>29702</td>\n",
       "      <td>68641</td>\n",
       "      <td>30.202455</td>\n",
       "    </tr>\n",
       "    <tr>\n",
       "      <th>Wednesday</th>\n",
       "      <td>16774</td>\n",
       "      <td>28602</td>\n",
       "      <td>36.966678</td>\n",
       "    </tr>\n",
       "    <tr>\n",
       "      <th>Thursday</th>\n",
       "      <td>21709</td>\n",
       "      <td>46873</td>\n",
       "      <td>31.654078</td>\n",
       "    </tr>\n",
       "    <tr>\n",
       "      <th>Friday</th>\n",
       "      <td>12432</td>\n",
       "      <td>19044</td>\n",
       "      <td>39.496759</td>\n",
       "    </tr>\n",
       "  </tbody>\n",
       "</table>\n",
       "</div>"
      ],
      "text/plain": [
       "status     interested  not_interested     i_perc\n",
       "week_day                                        \n",
       "Monday          15233           49373  23.578305\n",
       "Tuesday         29702           68641  30.202455\n",
       "Wednesday       16774           28602  36.966678\n",
       "Thursday        21709           46873  31.654078\n",
       "Friday          12432           19044  39.496759"
      ]
     },
     "execution_count": 12,
     "metadata": {},
     "output_type": "execute_result"
    }
   ],
   "source": [
    "# Interest per day of the week\n",
    "df['timestamp_dt'] = pd.to_datetime(df.timestamp)\n",
    "df['week_day'] = df.timestamp_dt.dt.weekday_name # or day_name() pandas v0.23+\n",
    "df.week_day = pd.Categorical(df.week_day, \n",
    "     categories=['Monday','Tuesday','Wednesday','Thursday','Friday','Saturday', 'Sunday'], \n",
    "     ordered=True\n",
    ")\n",
    "\n",
    "df_iw = df.groupby(['week_day', 'status']).status.count().unstack().fillna(0)\n",
    "df_iw['i_perc'] = df_iw.interested/(df_iw.interested + df_iw.not_interested)*100\n",
    "df_iw.head()"
   ]
  },
  {
   "cell_type": "code",
   "execution_count": 31,
   "metadata": {},
   "outputs": [
    {
     "data": {
      "image/png": "[encoded data removed]",
      "text/plain": [
       "<Figure size 720x432 with 1 Axes>"
      ]
     },
     "metadata": {},
     "output_type": "display_data"
    }
   ],
   "source": [
    "df_iw_s = df_iw.i_perc\n",
    "df_iw_s.index.names = ['Interest per day of the week',]\n",
    "ax = df_iw_s.plot.bar(rot=0)\n",
    "for i, v in enumerate(df_iw_s):\n",
    "    ax.text(i -.20, v + 1.5, '{:.2f}%'.format(v), color='k')\n",
    "# savefig('./saved_graphs/interest_per_day_week.png')"
   ]
  },
  {
   "cell_type": "code",
   "execution_count": 26,
   "metadata": {},
   "outputs": [
    {
     "data": {
      "text/html": [
       "<div>\n",
       "<style scoped>\n",
       "    .dataframe tbody tr th:only-of-type {\n",
       "        vertical-align: middle;\n",
       "    }\n",
       "\n",
       "    .dataframe tbody tr th {\n",
       "        vertical-align: top;\n",
       "    }\n",
       "\n",
       "    .dataframe thead th {\n",
       "        text-align: right;\n",
       "    }\n",
       "</style>\n",
       "<table border=\"1\" class=\"dataframe\">\n",
       "  <thead>\n",
       "    <tr style=\"text-align: right;\">\n",
       "      <th>status</th>\n",
       "      <th>interested</th>\n",
       "      <th>not_interested</th>\n",
       "      <th>i_perc</th>\n",
       "    </tr>\n",
       "    <tr>\n",
       "      <th>timestamp_dt</th>\n",
       "      <th></th>\n",
       "      <th></th>\n",
       "      <th></th>\n",
       "    </tr>\n",
       "  </thead>\n",
       "  <tbody>\n",
       "    <tr>\n",
       "      <th>2018-01-31</th>\n",
       "      <td>2307</td>\n",
       "      <td>6139</td>\n",
       "      <td>27.314705</td>\n",
       "    </tr>\n",
       "    <tr>\n",
       "      <th>2018-02-28</th>\n",
       "      <td>3078</td>\n",
       "      <td>7177</td>\n",
       "      <td>30.014627</td>\n",
       "    </tr>\n",
       "    <tr>\n",
       "      <th>2018-03-31</th>\n",
       "      <td>2142</td>\n",
       "      <td>4952</td>\n",
       "      <td>30.194531</td>\n",
       "    </tr>\n",
       "    <tr>\n",
       "      <th>2018-04-30</th>\n",
       "      <td>6007</td>\n",
       "      <td>11719</td>\n",
       "      <td>33.888074</td>\n",
       "    </tr>\n",
       "    <tr>\n",
       "      <th>2018-05-31</th>\n",
       "      <td>11149</td>\n",
       "      <td>19481</td>\n",
       "      <td>36.398955</td>\n",
       "    </tr>\n",
       "  </tbody>\n",
       "</table>\n",
       "</div>"
      ],
      "text/plain": [
       "status        interested  not_interested     i_perc\n",
       "timestamp_dt                                       \n",
       "2018-01-31          2307            6139  27.314705\n",
       "2018-02-28          3078            7177  30.014627\n",
       "2018-03-31          2142            4952  30.194531\n",
       "2018-04-30          6007           11719  33.888074\n",
       "2018-05-31         11149           19481  36.398955"
      ]
     },
     "execution_count": 26,
     "metadata": {},
     "output_type": "execute_result"
    }
   ],
   "source": [
    "df_it = df.groupby([\n",
    "        pd.Grouper(key='timestamp_dt', freq='M'), \n",
    "        'status',\n",
    "    ]).status.count().unstack().fillna(0)\n",
    "\n",
    "df_it['i_perc'] = df_it.interested/(df_it.interested + df_it.not_interested)*100\n",
    "df_it.head()"
   ]
  },
  {
   "cell_type": "code",
   "execution_count": 32,
   "metadata": {},
   "outputs": [
    {
     "data": {
      "image/png": "[encoded data removed]",
      "text/plain": [
       "<Figure size 720x432 with 1 Axes>"
      ]
     },
     "metadata": {},
     "output_type": "display_data"
    }
   ],
   "source": [
    "df_it_s = df_it.i_perc\n",
    "df_it_s.index.names = ['Interest per week',]\n",
    "ax = df_it_s.plot()\n",
    "# savefig('./saved_graphs/interest_per_week.png')"
   ]
  },
  {
   "cell_type": "code",
   "execution_count": null,
   "metadata": {},
   "outputs": [],
   "source": []
  }
 ],
 "metadata": {
  "kernelspec": {
   "display_name": "Python 3",
   "language": "python",
   "name": "python3"
  },
  "language_info": {
   "codemirror_mode": {
    "name": "ipython",
    "version": 3
   },
   "file_extension": ".py",
   "mimetype": "text/x-python",
   "name": "python",
   "nbconvert_exporter": "python",
   "pygments_lexer": "ipython3",
   "version": "3.6.5"
  }
 },
 "nbformat": 4,
 "nbformat_minor": 2
}
